{
 "cells": [
  {
   "cell_type": "markdown",
   "metadata": {},
   "source": [
    "# Topographical Analysis - Moon and Mars\n",
    "## Enxhi Buxheli"
   ]
  },
  {
   "cell_type": "code",
   "execution_count": 5,
   "metadata": {},
   "outputs": [],
   "source": [
    "# Makes the plots inline in the notebook\n",
    "%matplotlib inline\n",
    "\n",
    "# Loading the libraries\n",
    "import numpy as np\n",
    "import matplotlib.pyplot as plt\n",
    "\n",
    "# To read in .nc files, the below lines are needed\n",
    "# import sys\n",
    "# !{sys.executable} -m pip install netCDF4\n",
    "# import netCDF4"
   ]
  },
  {
   "cell_type": "markdown",
   "metadata": {},
   "source": [
    "### (a) \n",
    "In January 1994, Clementine - a lunar space probe officially named the Deep Space Program Science Experiment (DSPSE) - was launched by a Titan IIG rocket from the Vanderberg Air Force Base in California with a payload of $227 \\,kg$. The primary purpose of the mission was to showcase the capabilities of lighter, smaller, and lower cost deep space probes and to evaluate their effectiveness while exposed to deep space. While showcasing the technology, it was also able to successfully return LIDAR (Laser Image Detection and Ranging) data while it orbited the moon (from February 1994 to May 1994) and until it lost contact with Earth in May of 1995. \n",
    "\n",
    "The LIDAR imaging that Clementine provided us with generated an image of the lunar surface and helped us better understand what the surface of the Moon - Earth's largest natural satellite - looked like. When the data was collected, a map was made of the lunar surface that identified certain relief/crust features such as craters, basins, and mountains using LIDAR. The laser pulse used to collect this data had a wavelength of $1064\\, nm$ and when it was reflected from the moon's surface, the pulse was received by an avalanche photodiode (APD) detector. When the pulse was reflected, there would be a resulting increase in voltage which was amplified and when it would pass a certain pre-programmed threshold, was used to measure the travel time of the pulse which was then stored. These pulses made the three-dimensional high resolution mapping of the lunar surface possible.\n",
    "\n",
    "The topographical dataset was produced in collaboration with NASA Planetary Data System (PDS), but is hosted by the PDS Geosciences Node at Washington University in St. Louis."
   ]
  },
  {
   "cell_type": "markdown",
   "metadata": {},
   "source": [
    "### (b)"
   ]
  },
  {
   "cell_type": "code",
   "execution_count": 16,
   "metadata": {},
   "outputs": [],
   "source": [
    "# Reading in the NASA PDS topographical data into an array\n",
    "fname = 'topogrd1.dat'\n",
    "topo_data = np.genfromtxt(fname)\n",
    "\n",
    "# According to the documentation, the file is supposed to be \n",
    "# 180x360 so we must reshape\n",
    "topo_reshaped = np.reshape(topo_data, (180,360))"
   ]
  },
  {
   "cell_type": "code",
   "execution_count": null,
   "metadata": {},
   "outputs": [],
   "source": []
  }
 ],
 "metadata": {
  "kernelspec": {
   "display_name": "Python 3",
   "language": "python",
   "name": "python3"
  },
  "language_info": {
   "codemirror_mode": {
    "name": "ipython",
    "version": 3
   },
   "file_extension": ".py",
   "mimetype": "text/x-python",
   "name": "python",
   "nbconvert_exporter": "python",
   "pygments_lexer": "ipython3",
   "version": "3.7.4"
  }
 },
 "nbformat": 4,
 "nbformat_minor": 2
}
